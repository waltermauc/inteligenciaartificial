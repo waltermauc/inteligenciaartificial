{
 "cells": [
  {
   "cell_type": "markdown",
   "metadata": {},
   "source": [
    "# Tutorial de Python con Jupyter Notebook \n",
    "\n",
    "Nombre: Walter Bau\n",
    "\n",
    "Ing. Diego Quisi\n",
    "\n",
    "\n",
    "**Objetivo**: Aprender a realizar programas simples en Python utilizando cuadernos de Jupyter.\n",
    "\n",
    "**Conocimientos previos**: Conocimientos de programación básica: variables, estructuras de control, funciones, matrices y clases.\n",
    "\n",
    "\n",
    "\n",
    "## Python\n",
    "\n",
    "Python es un lenguaje de alto nivel, multiparadigma y con tipado dinámico. \n",
    "\n",
    "Si bien se usa en varios ámbitos, recientemente se ha convertido en el lenguaje más utilizado para programación científica, junto con las librerías **NumPy** (matrices), **Matplotlib** (visualizar datos) y otras.\n",
    "\n",
    "\n",
    "El tutorial no asume conocimiento de Python, pero tampoco explica el lenguaje en detalle."
   ]
  },
  {
   "cell_type": "markdown",
   "metadata": {},
   "source": [
    "## Cuadernos de Jupyter Notebook\n",
    "\n",
    "\n",
    "La forma tradicional de correr un programa en python es con el comando `python nombre.py`, donde `nombre.py` es un archivo con código fuente python. \n",
    "\n",
    "En lugar de eso, para este curso utilizaremos un servidor de Jupyter Notebook con cuadernos de código. Estos _cuadernos_ (_notebooks_) nos permiten combinar texto y código, organizados en _celdas_, lo cual es más cómodo para probar cosas nuevas y documentar lo que hacemos. \n",
    "\n",
    "El servidor de cuadernos se inicia ejecutando `jupyter notebook` desde la línea de comandos. \n",
    "\n",
    "Si tenemos cuadernos para abrir, antes de correr ese comando debemos ir al directorio con los cuadernos, de modo de poder abrirlos después. El servidor corre continuamente mientras usamos los cuadernos.\n",
    "\n",
    "Una vez que el servidor corre y se abre el navegador, se elege abrir un cuaderno anterior o crear uno nuevo. Luego, se escribe y ejecuta texto y código en el cuaderno, y podés guardar el estado de un cuaderno con `ctrl+s` en cualquier momento. Se guarda tanto el código como el resultado de las ejecuciones.\n",
    "\n",
    "La [guía de instalación](http://facundoq.github.io/courses/images/jupyter.html) disponible para que puedas correr python y jupyter en tu computadora.\n",
    "\n"
   ]
  },
  {
   "cell_type": "markdown",
   "metadata": {},
   "source": [
    "### Uso de Cuadernos de Jupyter\n",
    "Los cuadernos tienen dos tipos de celdas, de código y de texto. La celda que estás leyendo es una celda de texto escrita con Markdown, un lenguaje de marcado parecido al que utiliza wikipedia para sus páginas o al HTML.\n",
    "\n",
    "\n",
    "Las celdas de código son _ejecutables_, es decir, se pueden correr individualmente (con `ctrl+enter` o desde el menu `Cell -> Run Cells`)"
   ]
  },
  {
   "cell_type": "code",
   "execution_count": 2,
   "metadata": {},
   "outputs": [
    {
     "name": "stdout",
     "output_type": "stream",
     "text": [
      "Hola Mundo desde Jupyter Notebook\n",
      "4\n"
     ]
    }
   ],
   "source": [
    "#Este es un comentario porque empieza con #\n",
    "\n",
    "#Esta es una celda de código. \n",
    "\n",
    "#Se ejecuta con ctrl+enter. Probalo.\n",
    "\n",
    "#La función print puede imprimir varias cosas\n",
    "print(\"Hola Mundo desde Jupyter Notebook\") #impresión de un string\n",
    "print(4) # impresión de un número\n",
    "\n",
    "#Intentá imprimir el string \"IMAGENES\":"
   ]
  },
  {
   "cell_type": "markdown",
   "metadata": {},
   "source": [
    "## Python básico\n",
    "\n",
    "Las variables en python no necesitan ser declaradas, simplemente se definen al ser utilizadas por primera vez. Además, (si bien no es recomendable) pueden cambiar de tipo volviendo a definir.\n",
    "\n",
    "\n",
    "\n"
   ]
  },
  {
   "cell_type": "code",
   "execution_count": 3,
   "metadata": {},
   "outputs": [
    {
     "name": "stdout",
     "output_type": "stream",
     "text": [
      "hola\n",
      "5\n",
      "7.5\n"
     ]
    }
   ],
   "source": [
    "x=\"hola\"\n",
    "print(x)\n",
    "\n",
    "x=5\n",
    "print(x)\n",
    "\n",
    "y=x+2.5\n",
    "print(y)"
   ]
  },
  {
   "cell_type": "markdown",
   "metadata": {},
   "source": [
    "### Tipos de datos básicos\n",
    "\n",
    "Python tiene los mismos datos básicos que otros lenguajes: enteros, flotantes, strings y booleanos. Además, las listas son un tipo predefinido en el lenguaje."
   ]
  },
  {
   "cell_type": "markdown",
   "metadata": {},
   "source": [
    "### Numeros\n",
    "Python tiene soporte para números enteros y de punto flotante."
   ]
  },
  {
   "cell_type": "code",
   "execution_count": 4,
   "metadata": {},
   "outputs": [
    {
     "name": "stdout",
     "output_type": "stream",
     "text": [
      "- Tipo de x:\n",
      "<class 'int'>\n",
      "- Valor de x:\n",
      "3\n",
      "- x+1:\n",
      "4\n",
      "- x-1:\n",
      "2\n",
      "- x*2:\n",
      "6\n",
      "- x^2:\n",
      "9\n",
      "- x modificado:\n",
      "4\n",
      "- x modificado:\n",
      "8\n",
      "- Varias cosas en una línea:\n",
      "1 2 8 10\n"
     ]
    }
   ],
   "source": [
    "### Enteros ###\n",
    "\n",
    "x = 3 \n",
    "\n",
    "print(\"- Tipo de x:\")\n",
    "print(type(x)) # Imprime el tipo (o `clase`) de x\n",
    "print(\"- Valor de x:\")\n",
    "print(x)       # Imprimir un valor\n",
    "print(\"- x+1:\")\n",
    "print(x + 1)   # Suma: imprime \"4\"\n",
    "print(\"- x-1:\")\n",
    "print(x - 1)   # Resta; imprime \"2\"\n",
    "print(\"- x*2:\")\n",
    "print(x * 2)   # Multiplicación; imprime \"6\"\n",
    "print(\"- x^2:\")\n",
    "print(x ** 2)  # Exponenciación; imprime \"9\"\n",
    "# Modificación de x\n",
    "x += 1 \n",
    "print(\"- x modificado:\")\n",
    "print(x)  # Imprime \"4\"\n",
    "\n",
    "x *= 2\n",
    "print(\"- x modificado:\")\n",
    "print(x)  # Imprime \"8\"\n",
    "\n",
    "print(\"- Varias cosas en una línea:\")\n",
    "print(1,2,x,5*2) # imprime varias cosas a la vez\n",
    "\n"
   ]
  },
  {
   "cell_type": "code",
   "execution_count": 5,
   "metadata": {},
   "outputs": [
    {
     "name": "stdout",
     "output_type": "stream",
     "text": [
      "- Tipo de y:\n",
      "<class 'float'>\n",
      "- Varios valores en punto flotante:\n",
      "2.5 3.5 6.25 6.25\n"
     ]
    }
   ],
   "source": [
    "### Flotantes ###\n",
    "\n",
    "y = 2.5 \n",
    "print(\"- Tipo de y:\")\n",
    "print(type(y)) # Imprime el tipo de y\n",
    "print(\"- Varios valores en punto flotante:\")\n",
    "print(y, y + 1, y * 2.5, y ** 2) # Imprime varios números en punto flotante"
   ]
  },
  {
   "cell_type": "markdown",
   "metadata": {},
   "source": [
    "### Booleanos\n",
    "\n",
    "Python implementa todos los operadores usuales de la lógica booleana, usando palabras en inglés (`and, or, not`) en lugar de símbolos (||, &&, !, etc)\n",
    "\n",
    "También tiene los típicos operadores de comparación: `<,>,>=,<=,==,!=`"
   ]
  },
  {
   "cell_type": "code",
   "execution_count": 11,
   "metadata": {},
   "outputs": [
    {
     "name": "stdout",
     "output_type": "stream",
     "text": [
      "- Valores de v1 y v2:\n",
      "True False\n",
      "- Tipo de v1:\n",
      "<class 'bool'>\n",
      "- v1 and v2:\n",
      "False\n",
      "True\n",
      "False\n",
      "False\n",
      "True\n",
      "True\n"
     ]
    }
   ],
   "source": [
    "### Booleanos ###\n",
    "\n",
    "v1 = True #el valor verdadero se escribe True \n",
    "v2 = False #el valor verdadero se escribe False\n",
    "\n",
    "print(\"- Valores de v1 y v2:\")\n",
    "print(v1,v2)\n",
    "\n",
    "print(\"- Tipo de v1:\")\n",
    "print(type(v1)) # Imprime la clase de un valor booleano ('bool')\n",
    "\n",
    "print(\"- v1 and v2:\")\n",
    "print(v1 and v2) # y lógico; imprime False\n",
    "print(v1 or v2)  # o lógico; imprime True\n",
    "print(not v1)   # negación lógica, imprime False\n",
    "\n",
    "print(3 == 5)  # Imprime False ya que son distintos\n",
    "print(3 != 5)  # Imprime True ya que son distintos\n",
    "print(3 < 5)  # Imprime True ya que 3 es menor que 5\n",
    "\n"
   ]
  },
  {
   "cell_type": "markdown",
   "metadata": {},
   "source": [
    "## Listas\n",
    "\n",
    "Python tiene soporte para listas como un tipo predefinido del lenguaje. \n",
    "Para crear una lista basta con poner cosas entre `[]` (corchetes) y separarlas con `,` (comas)."
   ]
  },
  {
   "cell_type": "code",
   "execution_count": 1,
   "metadata": {},
   "outputs": [
    {
     "name": "stdout",
     "output_type": "stream",
     "text": [
      "- Lista con 4 números:\n",
      "[57, 45, 7, 13]\n",
      "- Lista con 3 strings:\n",
      "['hola', 'chau', 'buen día', 5]\n",
      "- Longitud de la lista:\n",
      "4\n"
     ]
    }
   ],
   "source": [
    "print(\"- Lista con 4 números:\")\n",
    "a=[57,45,7,13] # una lista con cuatro números\n",
    "print(a)\n",
    "\n",
    "print(\"- Lista con 3 strings:\")\n",
    "b=[\"hola\",\"chau\",\"buen día\", 5] # una lista con tres strings\n",
    "print(b)\n",
    "\n",
    "# la función `len` me da la longitud de la lista\n",
    "print(\"- Longitud de la lista:\")\n",
    "n=len(a)\n",
    "print(n)"
   ]
  },
  {
   "cell_type": "code",
   "execution_count": 2,
   "metadata": {},
   "outputs": [
    {
     "name": "stdout",
     "output_type": "stream",
     "text": [
      "- Elemento con índice 0 de la lista:\n",
      "hola\n",
      "- Elemento con índice 1 de la lista:\n",
      "chau\n",
      "- Elemento con índice 2 de la lista:\n",
      "buen día\n",
      "- Elemento ultimo de la lista:\n",
      "5\n"
     ]
    }
   ],
   "source": [
    "#Para acceder a sus elementos, se utiliza el []\n",
    "# Los índices comienzan en 0\n",
    "print(\"- Elemento con índice 0 de la lista:\")\n",
    "print(b[0])\n",
    "print(\"- Elemento con índice 1 de la lista:\")\n",
    "print(b[1])\n",
    "print(\"- Elemento con índice 2 de la lista:\")\n",
    "print(b[2])\n",
    "print(\"- Elemento ultimo de la lista:\")\n",
    "print(b[-1])\n"
   ]
  },
  {
   "cell_type": "code",
   "execution_count": 7,
   "metadata": {},
   "outputs": [
    {
     "name": "stdout",
     "output_type": "stream",
     "text": [
      "Lista vacía:\n",
      "[]\n",
      "- Elementos del índice 0 al 1 (2-1):\n",
      "[57, 45]\n",
      "- Elementos del índice 1 al 3 (4-1):\n",
      "[45, 7, 13]\n",
      "- Elementos desde el comienzo al indice 1 (2-1) :\n",
      "[57, 45]\n",
      "- Elementos desde el indice 1 hasta el final:\n",
      "[45, 7, 13]\n",
      "- Todos los elementos:\n",
      "[57, 45, 7, 13]\n",
      "[57, 45, 7, 13]\n",
      "- Rango vacío -> lista vacía:\n",
      "[]\n",
      " - Rango negativo - > los 3 ultimos elementos\n",
      "[45, 7, 13]\n"
     ]
    }
   ],
   "source": [
    "# para crear una lista vacía, (sin elementos), simplemente ponemos []\n",
    "vacia=[]\n",
    "print(\"Lista vacía:\")\n",
    "print(vacia)\n",
    "\n",
    "# También podés crear una sub-lista o slice especificando un rango de indices, el rango superior es no inclusivo\n",
    "print(\"- Elementos del índice 0 al 1 (2-1):\")\n",
    "print(a[0:2])\n",
    "print(\"- Elementos del índice 1 al 3 (4-1):\")\n",
    "print(a[1:4])\n",
    "#Si ponés nada antes del : se asume que pusiste 0\n",
    "print(\"- Elementos desde el comienzo al indice 1 (2-1) :\")\n",
    "print(a[:2])\n",
    "#Si no ponés nada después del : se asume que tomás todos hasta el final\n",
    "print(\"- Elementos desde el indice 1 hasta el final:\")\n",
    "print(a[1:])\n",
    "\n",
    "#Si no pones nada ni antes ni después es como tomar todo\n",
    "print(\"- Todos los elementos:\")\n",
    "print(a[:])\n",
    "print(a)\n",
    "\n",
    "\n",
    "#Si el fin es igual al comienzo, es un rango vacío, por ende se obtiene una lista vacía\n",
    "print(\"- Rango vacío -> lista vacía:\")\n",
    "print(a[2:2])\n",
    "#Rangos negativos\n",
    "print(' - Rango negativo - > los 3 ultimos elementos')\n",
    "print(a[-3:])"
   ]
  },
  {
   "cell_type": "markdown",
   "metadata": {},
   "source": [
    "## Una lista es un objeto\n",
    "\n",
    "Python permite definir clases y crear objetos de esas clases, pero esos temas están fuera de este tutorial. No obstante, una lista es un objeto, y tiene varios métodos. Entre ellos está el método `append`, que permite agregar un elemento a la lista. Los métodos se invocan de la siguiente forma `objeto.metodo(parametro1,parametro2,...)`.\n",
    "Adicionalmente se tiene algunos metodos como: pop, extends, push, map, etc."
   ]
  },
  {
   "cell_type": "code",
   "execution_count": 10,
   "metadata": {},
   "outputs": [
    {
     "name": "stdout",
     "output_type": "stream",
     "text": [
      "- Una lista con 3 strings:\n",
      "['una', 'lista', 'de', 5, 5.6]\n",
      "- La misma lista luego de agregarle un string más:\n",
      "['una', 'lista', 'de', 5, 5.6, 'ultimo']\n",
      "sumar la lista de elementos con el metodo sum\n",
      "[3, 5, 4, 8.9, 10]\n",
      "30.9\n"
     ]
    }
   ],
   "source": [
    "#por último, le podés agregar elementos a una lista con el método `append`\n",
    "print(\"- Una lista con 3 strings:\")\n",
    "a=['una','lista','de', 5, 5.6]\n",
    "print(a)\n",
    "\n",
    "print(\"- La misma lista luego de agregarle un string más:\")\n",
    "a.append('ultimo')\n",
    "print(a)\n",
    "lista=[3,5,4,8.9,10]\n",
    "print(lista)\n",
    "print(\" - Sumar la lista de elementos con el metodo sum\")\n",
    "print(sum(lista))"
   ]
  },
  {
   "cell_type": "markdown",
   "metadata": {},
   "source": [
    "## Tuplas\n",
    "\n",
    "Las tuplas son como las listas, pero no se pueden modificar. Son como unas listas de sólo lectura. Se crean con `()` (paréntesis) en lugar de `[]` (corchetes)."
   ]
  },
  {
   "cell_type": "code",
   "execution_count": 12,
   "metadata": {},
   "outputs": [
    {
     "name": "stdout",
     "output_type": "stream",
     "text": [
      "- Una tupla de cuatro elementos:\n",
      "(1, 2, 57, 4)\n",
      "- El elemento con índice 2:\n",
      "57\n",
      "- Los elementos entre los índices 0 y 2:\n",
      "(1, 2)\n"
     ]
    }
   ],
   "source": [
    "#Podés crear una tupla con valores entre () separados por ,\n",
    "a=(1,2,57,4)\n",
    "print(\"- Una tupla de cuatro elementos:\")\n",
    "print(a)\n",
    "print(\"- El elemento con índice 2:\")\n",
    "print(a[2])\n",
    "print(\"- Los elementos entre los índices 0 y 2:\")\n",
    "print(a[0:2])\n",
    "\n",
    "# la siguiente línea genera un error de ejecución\n",
    "#a.append(28)"
   ]
  },
  {
   "cell_type": "markdown",
   "metadata": {},
   "source": [
    "## Set \n",
    "\n",
    "Este permite almacenar una clave que no se puede repetir, para generar este tipo de listas se debe crear con llaves {}\n"
   ]
  },
  {
   "cell_type": "code",
   "execution_count": 8,
   "metadata": {},
   "outputs": [
    {
     "name": "stdout",
     "output_type": "stream",
     "text": [
      "{1, 2, 3, 4}\n",
      "1\n",
      "2\n",
      "3\n",
      "4\n"
     ]
    }
   ],
   "source": [
    "conjunto = {1,2,3,4}\n",
    "print(conjunto)\n",
    "for c in conjunto:\n",
    "    print(c)\n"
   ]
  },
  {
   "cell_type": "markdown",
   "metadata": {},
   "source": [
    "### Diccionarios\n",
    "\n",
    "Los diccionarios en python nos permite almacenar listas de tipo clave - valor, en donde los datos pueden ser de cualquier tipo de dato y la clave no se puede repetir.\n"
   ]
  },
  {
   "cell_type": "code",
   "execution_count": 15,
   "metadata": {},
   "outputs": [
    {
     "name": "stdout",
     "output_type": "stream",
     "text": [
      "{'nombre': 'Diego', 'apellido': 'Quisi', 'edad': 29, 'materias': ['Programacion', 'Sistemas Expertos', 'IA 1']}\n",
      "Diego\n",
      "['Programacion', 'Sistemas Expertos']\n"
     ]
    }
   ],
   "source": [
    "diccionario = {'nombre': 'Diego', 'apellido': 'Quisi', 'edad': 29, 'materias': ['Programacion', 'Sistemas Expertos', 'IA 1']}\n",
    "print(diccionario)\n",
    "print(diccionario['nombre']) # imprime Diego\n",
    "print(diccionario['materias'][0:2])"
   ]
  },
  {
   "cell_type": "markdown",
   "metadata": {},
   "source": [
    "\n",
    "### Estructuras de control\n",
    "\n",
    "En Python no hay llaves (*{}*) ni *begin...end* para marcar el comienzo y fin de un bloque, sino que eso se logra con la indentación. La indentación por defecto son 4 espacios en blanco.\n",
    "\n",
    "Entonces va a ser necesario indentar correctamente para utilizar sentencias `if`, `for` o para definir funciones.\n",
    "\n",
    "### if\n",
    "\n",
    "El `if` es como el de otros lenguajes, pero no pide paréntesis y termina con `:`. Su sintaxis es:\n",
    "\n",
    "```if condicion :\n",
    "    cuerpo del if (indentado con 4 espacios)\n",
    "else:\n",
    "    cuerpo del else (indentado con 4 espacios)\n",
    "```"
   ]
  },
  {
   "cell_type": "code",
   "execution_count": 1,
   "metadata": {},
   "outputs": [
    {
     "name": "stdout",
     "output_type": "stream",
     "text": [
      "La persona es\n",
      "Adulto Mayor\n",
      "De edad\n"
     ]
    }
   ],
   "source": [
    "edad = 65\n",
    "\n",
    "print(\"La persona es\")\n",
    "if edad < 18: # el if termina con : para indicar donde acaba la condición\n",
    "    # el print va indentado con 4 espacios para indicar que está dentro del cuerpo del if\n",
    "    print(\"Menor\") \n",
    "elif edad < 65:\n",
    "    print(\"Mayor\")\n",
    "else:\n",
    "    #Lo mismo con este print\n",
    "    print(\"Adulto Mayor\")\n",
    "    \n",
    "print(\"De edad\")\n",
    "    "
   ]
  },
  {
   "cell_type": "code",
   "execution_count": 3,
   "metadata": {},
   "outputs": [
    {
     "name": "stdout",
     "output_type": "stream",
     "text": [
      "La intensidad es:\n",
      "0.4333333333333333\n"
     ]
    }
   ],
   "source": [
    "#Ejercicio 1\n",
    "# Pasar a escala de grises el color codificado en los elementos de la lista `pixel`\n",
    "\n",
    "pixel= [0.6,0.3,0.4] # intensidades de cada canal. \n",
    "#El elemento 0 es el R, el 1 el G y el 2 el B\n",
    "\n",
    "# la intensidad en escala de grises es el promedio de la intensidad de cada canal R, G y B\n",
    "intensidad=0 # IMPLEMENTAR\n",
    "suma=0.0\n",
    "\n",
    "for pixeles in pixel:\n",
    "    suma+=pixeles\n",
    "intensidad = suma/len(pixel)\n",
    "\n",
    "print(\"La intensidad es:\")\n",
    "print(intensidad)\n",
    "\n",
    "    "
   ]
  },
  {
   "cell_type": "code",
   "execution_count": 6,
   "metadata": {},
   "outputs": [
    {
     "name": "stdout",
     "output_type": "stream",
     "text": [
      "En blanco y negro el pixel sería: (0 -> negro, 1 -> blanco)\n",
      "1\n"
     ]
    }
   ],
   "source": [
    "#Ejercicio 2\n",
    "# Pasar a blanco y negro el valor de intensidad codificado en la variable intensidad\n",
    "\n",
    "\n",
    "# podemos considerar que un pixel se convierte en blanco si su intensidad en escala de grises es mayor a 0.5\n",
    "# y negro de lo contrario\n",
    "bw = 0 # IMPLEMENTAR\n",
    "rangointensidad = 0.5\n",
    "\n",
    "print(\"En blanco y negro el pixel sería: (0 -> negro, 1 -> blanco)\")\n",
    "\n",
    "if intensidad > rangointensidad:\n",
    "    bw = 0\n",
    "else:\n",
    "    bw=1\n",
    "\n",
    "print(bw)\n"
   ]
  },
  {
   "cell_type": "markdown",
   "metadata": {},
   "source": [
    "#  Estructuras de repeticion\n",
    "## For\n",
    "\n",
    "Los `for` son parecidos a los `if`, pero tienen la sintaxis `for variable in lista:`. En este caso, `variable` es la variable que va a ir cambiando, y `lista` es una lista de python (o un `iterable` que es parecido)\n",
    "\n",
    "        "
   ]
  },
  {
   "cell_type": "code",
   "execution_count": 4,
   "metadata": {
    "scrolled": true
   },
   "outputs": [
    {
     "name": "stdout",
     "output_type": "stream",
     "text": [
      "- Impresion de los elementos de la lista:\n",
      "img\n",
      "python\n",
      "numpy\n",
      "- La suma de los números es:\n",
      "42\n",
      "42\n"
     ]
    }
   ],
   "source": [
    "print(\"- Impresion de los elementos de la lista:\")\n",
    "\n",
    "# Imprimir los strings de mi_lista por separado\n",
    "mi_lista=[\"img\",\"python\",\"numpy\"]\n",
    "for s in mi_lista:\n",
    "    print(s)# este print va con indentación\n",
    "    \n",
    "#calcular la suma de los números e imprimirla\n",
    "suma=0\n",
    "mis_numeros=[5,8,17,12]\n",
    "for numero in mis_numeros:\n",
    "    suma+=numero\n",
    "print(\"- La suma de los números es:\")\n",
    "print(suma)\n",
    "\n",
    "sumaTotal = sum(mis_numeros)\n",
    "print(sumaTotal)"
   ]
  },
  {
   "cell_type": "markdown",
   "metadata": {},
   "source": [
    "Cuando no tenemos una lista y queremos hacer un for \"común\" y que la variable que cambia sea un número que va incrementándose, podemos utilizar la función `range`."
   ]
  },
  {
   "cell_type": "code",
   "execution_count": 23,
   "metadata": {},
   "outputs": [
    {
     "name": "stdout",
     "output_type": "stream",
     "text": [
      "Un for de 0 a 3\n",
      "0\n",
      "1\n",
      "2\n",
      "3\n",
      "4\n",
      "- Un for de 2 a 5:\n",
      "2\n",
      "3\n",
      "4\n",
      "5\n",
      " - Un for negativo : \n",
      "-1\n",
      "-2\n",
      "-3\n",
      "-4\n"
     ]
    }
   ],
   "source": [
    "#un for de 0 a 3, para imprimir esos valores\n",
    "print(\"Un for de 0 a 5\")\n",
    "for i in range(5):\n",
    "    print(i)\n",
    "    \n",
    "#En Python los índices comienzan en 0, y por eso los rangos también.\n",
    "    \n",
    "\n",
    "#También se puede comenzar el rango en otro valor en lugar de 0\n",
    "print(\"- Un for de 2 a 5:\")\n",
    "for j in range(2,6):\n",
    "    print(j)\n",
    "\n",
    "print(\" - Un for negativo: \")\n",
    "for k in range(-1,-5,-1):\n",
    "    print(k)"
   ]
  },
  {
   "cell_type": "code",
   "execution_count": 7,
   "metadata": {},
   "outputs": [
    {
     "name": "stdout",
     "output_type": "stream",
     "text": [
      "- El maximo es:\n",
      "53\n"
     ]
    }
   ],
   "source": [
    "#Ejercicio 3: Escribir un for para buscar el máximo de la lista e imprimirlo\n",
    "lista=[44,11,15,29,53,12,30]\n",
    "maximo=0\n",
    "# IMPLEMENTAR\n",
    "for mayor in lista:\n",
    "    if mayor>maximo:\n",
    "        maximo = mayor\n",
    "        resultado=lista.index(maximo)\n",
    "# debe imprimir 53\n",
    "print(\"- El maximo es:\")\n",
    "print(maximo)\n"
   ]
  },
  {
   "cell_type": "code",
   "execution_count": 8,
   "metadata": {},
   "outputs": [
    {
     "name": "stdout",
     "output_type": "stream",
     "text": [
      "El menor es: 11 en la posicion: 1\n",
      "\n",
      "\n",
      "La lista acedente: [11, 12, 15, 29, 30, 44, 53]\n"
     ]
    }
   ],
   "source": [
    "#Ejercicio 4: Escribir un for para buscar el minimo elemento de la lista e imprimir su _posición_\n",
    "lista=[44,11,15,29,53,12,30]\n",
    "#minimo= min(lista)\n",
    "\n",
    "#print('El numero minimo es:', minimo, 'Su posicion en la lista es:',resultado )\n",
    "mini=lista[0]\n",
    "#print(mini)\n",
    "\n",
    "# Ejercicio 5 : Ordenar la lista de forma ascendente \n",
    "#IMPLEMENTAR\n",
    "\n",
    "\n",
    "for mayor in lista:\n",
    "    if mayor<mini:\n",
    "        mini=mayor\n",
    "        resultado=lista.index(mini)\n",
    "        print('El menor es:', mini, 'en la posicion:', resultado)\n",
    "\n",
    "print('\\n')\n",
    "\n",
    "print('La lista acedente:',sorted(lista) )"
   ]
  },
  {
   "cell_type": "markdown",
   "metadata": {},
   "source": [
    "# While\n",
    "\n",
    "Los bucles `while` permite ejecutar ciclos, o bien secuencias periódicas que nos permiten ejecutar código múltiples veces."
   ]
  },
  {
   "cell_type": "code",
   "execution_count": 25,
   "metadata": {},
   "outputs": [
    {
     "name": "stdout",
     "output_type": "stream",
     "text": [
      "La suma es 55\n"
     ]
    }
   ],
   "source": [
    "suma, numero = 0, 1\n",
    "while numero <= 10:\n",
    "    suma += numero\n",
    "    numero += 1\n",
    "\n",
    "print (\"La suma es \" + str(suma))"
   ]
  },
  {
   "cell_type": "markdown",
   "metadata": {},
   "source": [
    "### Funciones\n",
    "\n",
    "\n",
    "Las funciones se definen con la palabra clave `def` y tienen la sintaxis `def nombre_funcion(parametros):`. Para devolver un valor utilizamos la palabra clave `return`. Una funcion puede o no retornar un valor\n"
   ]
  },
  {
   "cell_type": "code",
   "execution_count": 2,
   "metadata": {},
   "outputs": [
    {
     "name": "stdout",
     "output_type": "stream",
     "text": [
      "2+5=\n",
      "7\n",
      "los elementos de la lista suman:\n",
      "180\n",
      "=======================FIBONACI======================\n",
      "Ingrese el valor de la serie fibonnaci a calcular: 10\n",
      "0\n",
      "1\n",
      "1\n",
      "2\n",
      "3\n",
      "5\n",
      "8\n",
      "13\n",
      "21\n",
      "34\n"
     ]
    }
   ],
   "source": [
    "#esta funcion recibe dos números y devuelve su suma\n",
    "\n",
    "def sumar(a,b):\n",
    "    return a+b\n",
    "\n",
    "\n",
    "c=sumar(2,5)\n",
    "print(\"2+5=\")\n",
    "print(c)\n",
    "\n",
    "\n",
    "#esta funcion recibe una lista y devuelve la suma de sus elementos\n",
    "def sumar_todos(lista):\n",
    "    suma=0\n",
    "    for v in lista:\n",
    "        suma+=v\n",
    "    return suma\n",
    "\n",
    "mi_lista=[54,12,99,15]\n",
    "print(\"los elementos de la lista suman:\")\n",
    "print(sumar_todos(mi_lista))\n",
    "\n",
    "\n",
    "# Ejercicio 7\n",
    "print(\"=======================FIBONACI======================\")\n",
    "\n",
    "# Crear una funcion en donde me permita enviar como parametro el numero de elementos y \n",
    "# devolver un listado de la serie fibonassi con el numero de elementos ingresado.\n",
    "#IMPLEMENTAR\n",
    "def fibonnaci (valor):\n",
    "    a, b = 0,1\n",
    "    for i in range(valor):\n",
    "        print(a)\n",
    "        a, b = b, a + b\n",
    "numero= int(input('Ingrese el valor de la serie fibonnaci a calcular: '))\n",
    "fibonnaci(numero)\n"
   ]
  },
  {
   "cell_type": "code",
   "execution_count": 6,
   "metadata": {},
   "outputs": [
    {
     "name": "stdout",
     "output_type": "stream",
     "text": [
      "La cantidad de ocurrencias es:\n",
      "3\n"
     ]
    }
   ],
   "source": [
    "#Ejercicio 8\n",
    "# Escribir una función que reciba una lista y un valor, \n",
    "#y devuelva la cantidad de veces que aparece ese valor en la lista\n",
    "\n",
    "def ocurrencias(lista,valor):\n",
    "    # IMPLEMENTAR\n",
    "    cont=0\n",
    "    for numero in lista:\n",
    "        if numero == valor:\n",
    "            cont= cont+1\n",
    "    return cont\n",
    "\n",
    "\n",
    "l=[1,4,2,3,5,1,4,2,3,6,1,7,1,3,5,1,1,5,3,2]\n",
    "v=2\n",
    "\n",
    "print(\"La cantidad de ocurrencias es:\")\n",
    "print(ocurrencias(l,v))\n",
    "\n",
    "#debe imprimir 3, la cantidad de veces que aparece el 2 en la lista\n",
    "\n",
    "# Ejercicio 9 : Investigar las funciones que se pueden utilizar con listas, diccionarios y tuplas."
   ]
  },
  {
   "cell_type": "markdown",
   "metadata": {},
   "source": [
    "# Clases\n",
    "Python admite una forma limitada de herencia múltiple en clases. Las variables y métodos privados se pueden declarar (por convención, el lenguaje no lo impone) agregando un guión bajo (por ejemplo, _spam). También podemos vincular nombres arbitrarios a instancias de clase. A continuación se muestra un ejemplo:"
   ]
  },
  {
   "cell_type": "code",
   "execution_count": 1,
   "metadata": {},
   "outputs": [
    {
     "name": "stdout",
     "output_type": "stream",
     "text": [
      " - Ejecutar funcion\n",
      "3\n",
      " Variable de clase, atributo comun entre las clase\n",
      "10\n",
      "10\n",
      " Cambiar atributo comun\n",
      "30\n",
      "30\n",
      " Cambiar el atributo comun solo de una instancia\n",
      "15\n",
      "30\n",
      "Cambiar valor de varible de instancia\n",
      "15\n"
     ]
    }
   ],
   "source": [
    "class Clase(object):     \n",
    "    CONSTANTE = 15\n",
    "    comun = 10\n",
    "    def __init__(self):\n",
    "        self.myvariable = 3\n",
    "        \n",
    "    def myfunction(self, arg1, arg2):\n",
    "        return self.myvariable\n",
    "\n",
    "claseinstance = Clase()\n",
    "print(\" - Ejecutar funcion\")\n",
    "print(claseinstance.myfunction(1, 2))\n",
    "\n",
    "claseinstance2 = Clase()\n",
    "print(\" Variable de clase, atributo comun entre las clase\")\n",
    "print(claseinstance.comun)\n",
    "print(claseinstance2.comun)\n",
    "\n",
    "print(\" Cambiar atributo comun\")\n",
    "Clase.comun = 30\n",
    "print(claseinstance.comun)\n",
    "print(claseinstance2.comun)\n",
    "\n",
    "print(\" Cambiar el atributo comun solo de una instancia\")\n",
    "claseinstance.comun = 15\n",
    "print(claseinstance.comun)\n",
    "print(claseinstance2.comun)\n",
    "\n",
    "print(\"Cambiar valor de varible de instancia\")\n",
    "claseinstance.myvariable = 15;\n",
    "\n",
    "print(claseinstance.myvariable)"
   ]
  },
  {
   "cell_type": "markdown",
   "metadata": {},
   "source": [
    "## Constructores de la clase\n",
    "\n",
    "Para enviar parametros al constructor de la clase se debe definir en el metodo `init`.\n"
   ]
  },
  {
   "cell_type": "code",
   "execution_count": 2,
   "metadata": {},
   "outputs": [
    {
     "name": "stdout",
     "output_type": "stream",
     "text": [
      "Diego Quisi\n",
      "Juan Perez\n"
     ]
    }
   ],
   "source": [
    "class Persona(object):\n",
    "    def __init__(self, nombre, apellido ):\n",
    "        self.nombre = nombre\n",
    "        self.apellido = apellido\n",
    "        \n",
    "    def obtenerNombres(self):\n",
    "        return str(self.nombre) + \" \" + str(self.apellido)\n",
    "    \n",
    "persona1 = Persona(\"Diego\", \"Quisi\")\n",
    "persona2 = Persona(\"Juan\", \"Perez\")\n",
    "\n",
    "print(persona1.obtenerNombres())\n",
    "\n",
    "print(persona2.obtenerNombres())\n"
   ]
  },
  {
   "cell_type": "code",
   "execution_count": 7,
   "metadata": {},
   "outputs": [],
   "source": [
    "# Ejercicio 7\n",
    "\n",
    "# Generar un CRUD (Crear, Leer, Actualizar y Eliminar) de una agenda de telefono.\n",
    "\n",
    "# IMPLEMENTAR\n",
    "diccionario = {'0101195964': ['Ejemplo', 'Diccionario', '0999999999', 'ejemplo@hotmail.com']}\n",
    "\n",
    "class agendaTelefono(object):\n",
    "    def __init__(self, nombre, apellido, celular, correo, cedula):\n",
    "        self.nombre = nombre\n",
    "        self.apellido = apellido\n",
    "        self.celular = celular\n",
    "        self.correo = correo\n",
    "        self.cedula = cedula\n",
    "    \n",
    "    def crear(self):\n",
    "        diccionario.update({str(self.cedula):[str(self.nombre),str(self.apellido),str(self.celular),str(self.correo)]})\n",
    "        \n",
    "    def actualizar(self):\n",
    "        diccionario.update({str(self.cedula):[str(self.nombre),str(self.apellido),str(self.celular),str(self.correo)]})\n",
    "        \n",
    "    def leer(self):\n",
    "        valor = int(len(diccionario[str(self.cedula)][0:4]))\n",
    "        if valor > 3:\n",
    "            return str(self.nombre) + \" \" + str(self.apellido)+ \" \" + str(self.celular)+ \" \" + str(self.correo)\n",
    "        else: \n",
    "            return str('No existe usuario')\n",
    "    def eliminar(self):\n",
    "        valor = int(len(diccionario[str(self.cedula)][0:4]))\n",
    "        if valor > 3:\n",
    "            del diccionario[str(self.cedula)]\n",
    "            print('Usuario  eliminado')\n",
    "        else:\n",
    "            print('No existe usuario')\n",
    "    \n",
    "\n"
   ]
  },
  {
   "cell_type": "code",
   "execution_count": 14,
   "metadata": {},
   "outputs": [
    {
     "name": "stdout",
     "output_type": "stream",
     "text": [
      "Usuario  eliminado\n"
     ]
    }
   ],
   "source": [
    "#Primera Persona ingresada\n",
    "persona1 = agendaTelefono(\"Walter\", \"Bau\",\"0969142183\",\"walter_mauc@hotmail.com\",\"0101195964\")\n",
    "#Segunda Persona ingresada\n",
    "persona2 = agendaTelefono(\"Carlos\", \"Abad\",\"073014719\",\"calos_abad1@hotmail.com\",\"0101195964\")\n",
    "#Crear Persona\n",
    "persona1.crear()\n",
    "persona2.crear()\n",
    "#Leer Persona\n",
    "persona1.leer()\n",
    "persona2.leer()\n",
    "#Actualizar Persona\n",
    "persona1 = agendaTelefono(\"Mauricio\", \"Bau\",\"0969142183\",\"walter_mauc@hotmail.com\",\"0101195964\")\n",
    "persona1.actualizar()\n",
    "persona1.leer()\n",
    "\n",
    "#Eliminar Persona\n",
    "persona2.eliminar()\n",
    "\n"
   ]
  },
  {
   "cell_type": "markdown",
   "metadata": {},
   "source": [
    "# Excepciones\n",
    "Las excepciones en pyhton permiten controlar a traves de la siguiente estructura:\n"
   ]
  },
  {
   "cell_type": "code",
   "execution_count": 18,
   "metadata": {},
   "outputs": [
    {
     "name": "stdout",
     "output_type": "stream",
     "text": [
      "Oops, division invalida.\n",
      "division by zero\n",
      "Se ejecuta el bloque finally.\n"
     ]
    }
   ],
   "source": [
    "try:\n",
    "    # Division by zero raises an exception\n",
    "    10 / 0\n",
    "except ZeroDivisionError as e:\n",
    "    print(\"Oops, division invalida.\")\n",
    "    print(e)\n",
    "else:\n",
    "    # Si no existe ninguna excepcion no ocurre nada.\n",
    "    pass\n",
    "finally:\n",
    "    # Se ejecuta exista o no la excepcion.\n",
    "    print(\"Se ejecuta el bloque finally.\")"
   ]
  },
  {
   "cell_type": "code",
   "execution_count": 21,
   "metadata": {},
   "outputs": [
    {
     "name": "stdout",
     "output_type": "stream",
     "text": [
      "0101195964\n"
     ]
    },
    {
     "data": {
      "text/plain": [
       "'TRUE'"
      ]
     },
     "execution_count": 21,
     "metadata": {},
     "output_type": "execute_result"
    }
   ],
   "source": [
    "#Ejercicio 8\n",
    "\n",
    "# Crear un metodo de validacion de cedula Ecuatoriana, en caso de que la cedula no sea validad lanzar \n",
    "# una excepcion, ademas de controlar que solo pueda ingresar digitos numericos por teclado.\n",
    "\n",
    "\n",
    "#IMPLEMENTAR\n",
    "\n",
    "def vcedula(texto):\n",
    "    # sin ceros a la izquierda\n",
    "    nocero = texto.strip(\"0\")\n",
    "    \n",
    "    cedula = int(nocero,0)\n",
    "    verificador = cedula%10\n",
    "    numero = cedula//10\n",
    "    \n",
    "    # mientras tenga números\n",
    "    suma = 0\n",
    "    while (numero > 0):\n",
    "        \n",
    "        # posición impar\n",
    "        posimpar = numero%10\n",
    "        numero   = numero//10\n",
    "        posimpar = 2*posimpar\n",
    "        if (posimpar  > 9):\n",
    "            posimpar = posimpar-9\n",
    "        \n",
    "        # posición par\n",
    "        pospar = numero%10\n",
    "        numero = numero//10\n",
    "        \n",
    "        suma = suma + posimpar + pospar\n",
    "    \n",
    "    decenasup = suma//10 + 1\n",
    "    calculado = decenasup*10 - suma\n",
    "    if (calculado  >= 10):\n",
    "        calculado = calculado - 10\n",
    "\n",
    "    if (calculado == verificador):\n",
    "        validado = \"TRUE\"\n",
    "    else:\n",
    "        validado = \"FALSE\"\n",
    "        \n",
    "    return (validado)\n",
    "    \n",
    "\n",
    "#IMPLEMENTAR\n",
    "vcedula(input())"
   ]
  },
  {
   "cell_type": "markdown",
   "metadata": {},
   "source": [
    "# Importar\n",
    "Las bibliotecas externas se usan con la palabra clave import [libname]. También puede usar desde [libname] import [funcname] para funciones individuales. A continuacion un un ejemplo:"
   ]
  },
  {
   "cell_type": "code",
   "execution_count": 13,
   "metadata": {},
   "outputs": [
    {
     "name": "stdout",
     "output_type": "stream",
     "text": [
      "archivo creado y almacenado el listado adjunto \n"
     ]
    }
   ],
   "source": [
    "import pickle\n",
    "miLista = [\"Esto\", \"es\", 4, 13327]\n",
    "# Abre o crea un archivo binary.dat para guardar la informacion\n",
    "myfile = open(r\"binary.dat\", \"wb\")\n",
    "pickle.dump(miLista, myfile)\n",
    "myfile.close()\n",
    "print(\"archivo creado y almacenado el listado adjunto \")\n",
    "\n",
    "## Leer escribir csv\n",
    "\n",
    "import csv\n",
    "\n",
    "texto = [\"Esto\", \"es\", \"un\", \"ejemplo\"]\n",
    "with open(\"datos.csv\", \"w\", newline='') as f:\n",
    "    writer = csv.writer(f, quoting=csv.QUOTE_NONNUMERIC, delimiter=';')\n",
    "    writer.writerow([\"Fila1\", \"Fila2\", \"Fila3\", \"Fila4\"])\n",
    "    writer.writerow(texto)\n",
    "\n"
   ]
  },
  {
   "cell_type": "code",
   "execution_count": null,
   "metadata": {},
   "outputs": [],
   "source": [
    "# Ejercicio 9\n",
    "# Crear una aplicacion que me permita guardar en archivo y recuperar la informacion de nombres de animales.\n",
    "# Utilizar Csv\n",
    "\n",
    "#IMPLEMENTAR"
   ]
  },
  {
   "cell_type": "markdown",
   "metadata": {},
   "source": [
    "# INTERFAZ GRAFICA CON PYTHON\n",
    "## Tkinter\n",
    "\n",
    "Para realizar interfaces graficas con python una de las librerias que se pueden utilizar es Tkinter, esta tiene un conjunto completo de plaquetes y librerias para que puedas realizar una interfaz grafica de escritorio con todos los componetes de botonoes, cuadros de textos, etc.\n",
    "\n",
    "Referencias: https://docs.python.org/es/3/library/tk.html\n"
   ]
  },
  {
   "cell_type": "code",
   "execution_count": null,
   "metadata": {},
   "outputs": [],
   "source": [
    "from tkinter import *\n",
    "\n",
    "contador = 0\n",
    "\n",
    "def clicked():\n",
    "    global contador\n",
    "    contador  += 1\n",
    "    lbl.configure(text=\"El boton fue precionado\" + str(contador))\n",
    "    if(contador > 5):\n",
    "        lbl.configure(text=\"Que eres loco !!\")\n",
    "\n",
    "window = Tk()\n",
    "window.title(\"Bienvenidos UPS\")\n",
    "\n",
    "\n",
    "#Etiquetas\n",
    "lbl = Label(window, text=\"Hola mundo desde python con tkinter\")\n",
    "lbl.grid(column=0, row=0)\n",
    "\n",
    "btn = Button(window, text=\"Click Aqui!\", command=clicked)\n",
    "\n",
    "btn.grid(column=1, row=0)\n",
    "\n",
    "window.mainloop()\n",
    "\n",
    "\n"
   ]
  },
  {
   "cell_type": "markdown",
   "metadata": {},
   "source": [
    "# Servidor web basado en python\n",
    "\n",
    "## Flask\n",
    "\n",
    "Una de las opciones para crear aplicaciones web y servicios web es Flask, es una competencia directa de DJango y otros frameworks de desarrollo web basados en python, a continuación se dara una pequeña introducción al uso y generacion de servicios web\n"
   ]
  },
  {
   "cell_type": "code",
   "execution_count": 5,
   "metadata": {},
   "outputs": [
    {
     "name": "stderr",
     "output_type": "stream",
     "text": [
      " * Running on http://localhost:9001/ (Press CTRL+C to quit)\n",
      "127.0.0.1 - - [09/Apr/2021 18:51:58] \"GET / HTTP/1.1\" 200 -\n",
      "127.0.0.1 - - [09/Apr/2021 18:52:29] \"GET / HTTP/1.1\" 200 -\n",
      "127.0.0.1 - - [09/Apr/2021 18:52:30] \"GET /favicon.ico HTTP/1.1\" 404 -\n"
     ]
    }
   ],
   "source": [
    "from flask import Flask\n",
    "from werkzeug.wrappers import Request, Response\n",
    "\n",
    "app = Flask(__name__)\n",
    "\n",
    "@app.route('/')\n",
    "def hello_world():\n",
    "    return 'Cambio el mensaje para que vea que funciona !!'\n",
    "\n",
    "if __name__ == '__main__':\n",
    "    from werkzeug.serving import run_simple\n",
    "    run_simple('localhost', 9001, app)"
   ]
  },
  {
   "cell_type": "markdown",
   "metadata": {},
   "source": [
    "# Request - Response\n",
    "\n",
    "Para manejar las peticiones y respuestas tenemos que utilizar las libreria de Request - Responso a continuacion vamos a generar un ejemplo de como enviar parametros y responder"
   ]
  },
  {
   "cell_type": "code",
   "execution_count": 10,
   "metadata": {},
   "outputs": [
    {
     "name": "stderr",
     "output_type": "stream",
     "text": [
      " * Running on http://localhost:9001/ (Press CTRL+C to quit)\n",
      "127.0.0.1 - - [09/Apr/2021 19:08:22] \"GET /formulario HTTP/1.1\" 200 -\n",
      "127.0.0.1 - - [09/Apr/2021 19:08:29] \"POST /formulario HTTP/1.1\" 200 -\n",
      "127.0.0.1 - - [09/Apr/2021 19:08:33] \"GET /formulario HTTP/1.1\" 200 -\n",
      "127.0.0.1 - - [09/Apr/2021 19:08:40] \"GET / HTTP/1.1\" 200 -\n",
      "127.0.0.1 - - [09/Apr/2021 19:08:40] \"GET / HTTP/1.1\" 200 -\n",
      "127.0.0.1 - - [09/Apr/2021 19:08:41] \"POST /formulario HTTP/1.1\" 200 -\n",
      "127.0.0.1 - - [09/Apr/2021 19:08:41] \"GET / HTTP/1.1\" 200 -\n",
      "127.0.0.1 - - [09/Apr/2021 19:08:41] \"GET / HTTP/1.1\" 200 -\n",
      "127.0.0.1 - - [09/Apr/2021 19:08:52] \"GET / HTTP/1.1\" 200 -\n",
      "127.0.0.1 - - [09/Apr/2021 19:08:53] \"GET / HTTP/1.1\" 200 -\n",
      "127.0.0.1 - - [09/Apr/2021 19:08:53] \"GET / HTTP/1.1\" 200 -\n",
      "127.0.0.1 - - [09/Apr/2021 19:09:08] \"GET / HTTP/1.1\" 200 -\n",
      "127.0.0.1 - - [09/Apr/2021 19:09:11] \"GET / HTTP/1.1\" 200 -\n",
      "127.0.0.1 - - [09/Apr/2021 19:09:12] \"GET / HTTP/1.1\" 200 -\n",
      "127.0.0.1 - - [09/Apr/2021 19:09:49] \"GET / HTTP/1.1\" 200 -\n",
      "127.0.0.1 - - [09/Apr/2021 19:10:04] \"GET /formulario HTTP/1.1\" 200 -\n",
      "127.0.0.1 - - [09/Apr/2021 19:10:07] \"POST /formulario HTTP/1.1\" 200 -\n"
     ]
    }
   ],
   "source": [
    "\n",
    "from flask import Flask, request\n",
    "from werkzeug.wrappers import Request, Response\n",
    "\n",
    "app = Flask(__name__)\n",
    "\n",
    "@app.route('/')\n",
    "def hello_world():\n",
    "    return 'Cambio el mensaje para que vea que funciona !!'\n",
    "\n",
    "@app.route('/palindromo')\n",
    "def palindromo():\n",
    "    # if key doesn't exist, returns None\n",
    "    palabra = request.args.get('palabra')\n",
    "    longitud = len(palabra)\n",
    "    reverso =palabra[longitud::-1]\n",
    "    resultado = (False, True)[reverso == palabra]\n",
    "    return '''<h1>El palindromo es: {}</h1>'''.format(resultado)\n",
    "\n",
    "@app.route('/longitud/<name>')\n",
    "def longitud(name):\n",
    "   return 'La longitud de la cadena es %s' % len(name)\n",
    "\n",
    "\n",
    "@app.route('/formulario', methods=['GET', 'POST'])\n",
    "def formulario():\n",
    "    # handle the POST request\n",
    "    if request.method == 'POST':\n",
    "        language = request.form.get('lenguaje')\n",
    "        framework = request.form.get('framework')\n",
    "        return '''\n",
    "                  <h1>El valor del lenguaje es: {}</h1>\n",
    "                  <h1>El valor del framework es: {}</h1>'''.format(language, framework)\n",
    "\n",
    "    # otherwise handle the GET request\n",
    "    return '''\n",
    "           <form method=\"POST\">\n",
    "               <div><label>Lenguaje: <input type=\"text\" name=\"lenguaje\"></label></div>\n",
    "               <div><label>Framework: <input type=\"text\" name=\"framework\"></label></div>\n",
    "               <input type=\"submit\" value=\"Submit\">\n",
    "           </form>'''\n",
    "\n",
    "if __name__ == '__main__':\n",
    "    from werkzeug.serving import run_simple\n",
    "    run_simple('localhost', 9001, app)\n"
   ]
  },
  {
   "cell_type": "code",
   "execution_count": null,
   "metadata": {},
   "outputs": [],
   "source": [
    "# Practica 11\n",
    "#Realizar un mantenimiento de la tabla personas(nombre apellido cedula) utilizando Flask, los datos se deben guardar en una base de \n",
    "#datos Sqlite\n"
   ]
  },
  {
   "cell_type": "markdown",
   "metadata": {},
   "source": [
    "# Practica Integradora\n",
    "\n",
    "Realizar una aplicacion para agendar contactos, en donde una Persona (nombre, apellido, cedula, fecha de nacimiento, direccion) puede tener varios Telefonos (numero, tipo de telefono (enum), codigo de area, operadora)., adicionalmente esta informacion se debe almacenar en un archivo para recuperarla.\n",
    "Los datos deben ser ingresados mediante tkinter, para ello se debe generar un menu interactivo que permita gestionar toda la informacion de la agenda (CRUD -> Personas y Telefonos), ademas de guardar y leer los datos del archivo. Incluir la validacion de la cedula y de datos de ingreso con excepciones en caso de necesitarlos.\n",
    "\n"
   ]
  },
  {
   "cell_type": "code",
   "execution_count": null,
   "metadata": {},
   "outputs": [],
   "source": [
    "#IMPLEMENTAR AGENDA"
   ]
  },
  {
   "cell_type": "markdown",
   "metadata": {},
   "source": [
    "## Otros tutoriales\n",
    "\n",
    "\n",
    "Este tutorial corto intenta darte los elementos mínimos de python para poder trabajar, para algunas temas que no se trataron por favor ingresar al siguiente link  [Python 2](https://www.stavros.io/tutorials/python/) \n",
    "También para complementar este recurso con el curso online de [Python de CodeAcademy](https://www.codecademy.com/es/tracks/python-traduccion-al-espanol-america-latina-clone-1) o este [libro de python](https://argentinaenpython.com/quiero-aprender-python/aprenda-a-pensar-como-un-programador-con-python.pdf)."
   ]
  }
 ],
 "metadata": {
  "kernelspec": {
   "display_name": "Python 3",
   "language": "python",
   "name": "python3"
  },
  "language_info": {
   "codemirror_mode": {
    "name": "ipython",
    "version": 3
   },
   "file_extension": ".py",
   "mimetype": "text/x-python",
   "name": "python",
   "nbconvert_exporter": "python",
   "pygments_lexer": "ipython3",
   "version": "3.7.4"
  }
 },
 "nbformat": 4,
 "nbformat_minor": 2
}
